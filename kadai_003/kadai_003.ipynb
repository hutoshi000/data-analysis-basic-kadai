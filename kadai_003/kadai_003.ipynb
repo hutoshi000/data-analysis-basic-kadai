{
  "nbformat": 4,
  "nbformat_minor": 0,
  "metadata": {
    "colab": {
      "provenance": []
    },
    "kernelspec": {
      "name": "python3",
      "display_name": "Python 3"
    },
    "language_info": {
      "name": "python"
    }
  },
  "cells": [
    {
      "cell_type": "code",
      "source": [
        "import numpy as np"
      ],
      "metadata": {
        "id": "zRbAH38-SEPV"
      },
      "execution_count": 3,
      "outputs": []
    },
    {
      "cell_type": "code",
      "source": [
        "multi_array1 = np.array([[0, 1], [2,3],[4,5]])\n",
        "A=multi_array1\n",
        "multi_array2 = np.array([[0,1,2,3],[4,5,6,7]])\n",
        "B=multi_array2\n",
        "multi_array3=np.dot(A, B)\n",
        "multi_array3.max()"
      ],
      "metadata": {
        "colab": {
          "base_uri": "https://localhost:8080/"
        },
        "id": "dkkLVlKKSzgv",
        "outputId": "dbcadf07-dace-4d28-bf7a-5a1735cb8104"
      },
      "execution_count": 15,
      "outputs": [
        {
          "output_type": "execute_result",
          "data": {
            "text/plain": [
              "47"
            ]
          },
          "metadata": {},
          "execution_count": 15
        }
      ]
    }
  ]
}